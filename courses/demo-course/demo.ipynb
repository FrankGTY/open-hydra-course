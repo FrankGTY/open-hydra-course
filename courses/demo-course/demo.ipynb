{
 "cells": [
  {
   "cell_type": "code",
   "execution_count": null,
   "metadata": {},
   "outputs": [],
   "source": [
    "# 这里是您的课程实际内容的 notebook",
    "# 这里你需要下载 base model 您可以从这里下载 http://demo.com/base-model"
   ]
  }
 ],
 "metadata": {
  "language_info": {
   "name": "python"
  }
 },
 "nbformat": 4,
 "nbformat_minor": 2
}
